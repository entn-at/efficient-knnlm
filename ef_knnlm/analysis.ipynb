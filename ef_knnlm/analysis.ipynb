{
 "cells": [
  {
   "cell_type": "code",
   "execution_count": 1,
   "metadata": {},
   "outputs": [],
   "source": [
    "%matplotlib inline\n",
    "\n",
    "import json\n",
    "import numpy as np\n",
    "\n",
    "import matplotlib.pyplot as plt\n"
   ]
  },
  {
   "cell_type": "code",
   "execution_count": 2,
   "metadata": {},
   "outputs": [],
   "source": [
    "hypos = []\n",
    "with open('../analysis.jsonl') as fin:\n",
    "    for line in fin:\n",
    "        hypos.append(json.loads(line.strip()))"
   ]
  },
  {
   "cell_type": "code",
   "execution_count": 51,
   "metadata": {},
   "outputs": [
    {
     "data": {
      "text/plain": [
       "dict_keys(['string', 'tokens', 'positional_scores', 'knn_scores', 'lm_scores', 'lm_entropy'])"
      ]
     },
     "execution_count": 51,
     "metadata": {},
     "output_type": "execute_result"
    }
   ],
   "source": [
    "hypos[0].keys()"
   ]
  },
  {
   "cell_type": "code",
   "execution_count": 124,
   "metadata": {},
   "outputs": [
    {
     "name": "stdout",
     "output_type": "stream",
     "text": [
      "[-0.6376953125, -0.880859375, -20.359375, -0.70703125, -0.022216796875, -0.0009765625, -0.00048828125, -0.305908203125, -0.29443359375, -0.8828125, -4.0234375, -1.123046875, -0.1053466796875, -4.74609375, -2.10546875, -0.9267578125, -2.841796875, -0.51416015625, -0.209228515625, -0.048828125, -0.126708984375, -0.25341796875, -0.006591796875, -12.0, -0.5654296875, -3.333984375, -0.26123046875, -3.474609375, -0.73193359375, -0.2216796875, -1.357421875, -7.97265625, -1.4921875, -0.8779296875, -3.078125, -0.00146484375, -0.6142578125, -3.28515625, -0.076416015625, -0.50390625, -0.6103515625, -0.425537109375, -3.705078125, -0.023193359375, -0.038818359375, -0.59375, -5.9921875, -0.75732421875, -1.5283203125, -4.94921875, -0.95458984375, -1.55859375, -1.244140625, -4.9296875, -5.640625, -0.8955078125, -0.6650390625, -0.51171875, -0.079345703125, -4.17578125, -0.93017578125, -0.005126953125, -0.157470703125, -0.010498046875, -0.000244140625, -1.25390625, -1.2763671875, -3.359375, -0.08935546875, -4.4765625, -5.0625, -0.00537109375, -0.30517578125, -0.0302734375, -0.00048828125, -1.2744140625, -1.4453125, -6.5, -1.4697265625, -5.3828125, -2.65234375, -0.0029296875, -5.30078125, -1.6689453125, -4.19921875, -3.984375, -0.180908203125, -0.71533203125, -4.8203125, -1.4697265625, -6.51171875, -2.73828125, -7.36328125, -2.6484375, -6.7578125, -6.3203125, -3.4296875, -0.1873779296875, -3.224609375, -7.46484375]\n"
     ]
    }
   ],
   "source": [
    "print(hypos[0]['positional_scores'][:100])"
   ]
  },
  {
   "cell_type": "code",
   "execution_count": 125,
   "metadata": {},
   "outputs": [
    {
     "name": "stdout",
     "output_type": "stream",
     "text": [
      "[0.0, -10000.0, -10000.0, -10000.0, -0.06756591796875, 0.0, -4.76837158203125e-07, -10000.0, -10000.0, -0.63525390625, -3.341796875, -0.51708984375, -0.27099609375, -5.453125, -2.5859375, -1.09375, -2.828125, -5.63671875, -0.325927734375, -0.0570068359375, -0.1278076171875, -0.44775390625, -0.0168609619140625, -10000.0, -3.025390625, -3.974609375, -0.69775390625, -3.3515625, -1.2314453125, -0.56982421875, -1.6044921875, -10000.0, -1.0888671875, -1.3935546875, -4.3515625, -0.0027008056640625, -1.056640625, -4.078125, -0.281494140625, -0.8330078125, -0.927734375, -0.45703125, -4.16015625, -0.0654296875, -0.041107177734375, -0.67822265625, -5.48828125, -1.556640625, -1.2890625, -5.91796875, -10000.0, -1.30859375, -1.3515625, -4.9375, -5.85546875, -1.1083984375, -0.775390625, -1.2060546875, -0.08746337890625, -4.60546875, -1.095703125, -0.0164642333984375, -0.43505859375, -0.034271240234375, 0.0, -1.328125, -1.521484375, -3.14453125, -0.0928955078125, -4.41796875, -4.25, -0.018157958984375, -0.394287109375, -0.11090087890625, -0.001689910888671875, -1.6015625, -1.314453125, -7.99609375, -1.0869140625, -5.90625, -2.328125, -0.01113128662109375, -4.61328125, -1.2822265625, -4.19140625, -5.5859375, -0.1878662109375, -1.0546875, -10000.0, -1.36328125, -6.18359375, -1.859375, -10000.0, -3.705078125, -5.6328125, -10000.0, -5.75390625, -0.51953125, -3.626953125, -6.17578125]\n"
     ]
    }
   ],
   "source": [
    "print(hypos[0]['knn_scores'][:100])"
   ]
  },
  {
   "cell_type": "code",
   "execution_count": 126,
   "metadata": {},
   "outputs": [
    {
     "name": "stdout",
     "output_type": "stream",
     "text": [
      "[-0.99072265625, -0.59326171875, -20.078125, -0.41943359375, -0.007343292236328125, -0.0007085800170898438, -0.00015687942504882812, -0.0182342529296875, -0.0068359375, -0.98095703125, -4.4140625, -1.4482421875, -0.0556640625, -4.58984375, -1.986328125, -0.876953125, -2.845703125, -0.2286376953125, -0.1734619140625, -0.04559326171875, -0.1265869140625, -0.1956787109375, -0.003387451171875, -11.7109375, -0.29931640625, -3.189453125, -0.1494140625, -3.51953125, -0.60888671875, -0.1278076171875, -1.287109375, -7.68359375, -1.671875, -0.751953125, -2.86328125, -0.0005102157592773438, -0.501953125, -3.119140625, -0.016693115234375, -0.4140625, -0.52392578125, -0.4150390625, -3.58984375, -0.00897216796875, -0.03790283203125, -0.5673828125, -6.23828125, -0.58935546875, -1.6220703125, -4.76171875, -0.6669921875, -1.658203125, -1.2109375, -4.92578125, -5.578125, -0.8330078125, -0.630859375, -0.357421875, -0.0760498046875, -4.0625, -0.8798828125, -0.0011920928955078125, -0.0797119140625, -0.0022144317626953125, -3.552436828613281e-05, -1.2294921875, -1.2060546875, -3.443359375, -0.08843994140625, -4.49609375, -5.60546875, -0.0013570785522460938, -0.276611328125, -0.004116058349609375, -0.00034999847412109375, -1.185546875, -1.494140625, -6.26953125, -1.638671875, -5.25390625, -2.791015625, -0.00045180320739746094, -5.69921875, -1.841796875, -4.19921875, -3.74609375, -0.178466796875, -0.6240234375, -4.53125, -1.5078125, -6.6484375, -3.37109375, -7.07421875, -2.451171875, -7.94921875, -6.03125, -3.16796875, -0.0975341796875, -3.119140625, -9.546875]\n"
     ]
    }
   ],
   "source": [
    "print(hypos[0]['lm_scores'][:100])"
   ]
  },
  {
   "cell_type": "code",
   "execution_count": 127,
   "metadata": {},
   "outputs": [
    {
     "name": "stdout",
     "output_type": "stream",
     "text": [
      "[4.2578125, 2.84375, 0.10498046875, 1.0830078125, 0.0640869140625, 0.006256103515625, 0.0019893646240234375, 0.1448974609375, 0.048583984375, 1.2412109375, 2.435546875, 3.16796875, 0.460205078125, 5.609375, 5.0234375, 1.1953125, 5.07421875, 1.2763671875, 0.89892578125, 0.340576171875, 0.432861328125, 1.216796875, 0.02874755859375, 3.5234375, 1.1865234375, 2.794921875, 1.0419921875, 4.828125, 1.740234375, 0.7099609375, 1.9765625, 4.45703125, 1.6572265625, 0.876953125, 3.958984375, 0.00640869140625, 2.068359375, 3.849609375, 0.126708984375, 1.8125, 2.025390625, 1.8115234375, 3.5859375, 0.072021484375, 0.2890625, 2.36328125, 5.17578125, 2.466796875, 1.6591796875, 2.275390625, 1.7177734375, 1.0634765625, 3.23828125, 2.591796875, 1.7373046875, 2.044921875, 2.70703125, 1.53125, 0.49755859375, 4.234375, 1.4677734375, 0.0117950439453125, 0.3544921875, 0.020751953125, 0.0004184246063232422, 1.5703125, 2.943359375, 1.1435546875, 0.61962890625, 4.234375, 1.291015625, 0.0145111083984375, 0.75048828125, 0.03533935546875, 0.0032253265380859375, 1.3798828125, 2.943359375, 3.240234375, 5.0546875, 4.90625, 5.4453125, 0.0051727294921875, 5.515625, 2.65625, 3.224609375, 4.92578125, 0.84521484375, 1.8984375, 4.90625, 4.484375, 5.6015625, 2.083984375, 5.46875, 5.1171875, 3.9921875, 5.3671875, 2.109375, 0.70068359375, 3.408203125, 4.09375]\n"
     ]
    }
   ],
   "source": [
    "print(hypos[0]['lm_entropy'][:100])"
   ]
  },
  {
   "cell_type": "code",
   "execution_count": 136,
   "metadata": {},
   "outputs": [
    {
     "name": "stdout",
     "output_type": "stream",
     "text": [
      "[-0.99072265625, -0.59326171875, -0.00843048095703125, -0.41943359375, -0.007343292236328125, -0.0007085800170898438, -0.00015687942504882812, -0.0182342529296875, -0.0068359375, -0.94970703125, -1.2109375, -1.4482421875, -0.0556640625, -2.525390625, -1.986328125, -0.720703125, -1.830078125, -0.2286376953125, -0.1734619140625, -0.04559326171875, -0.1265869140625, -0.1956787109375, -0.003387451171875, -0.97705078125, -0.29931640625, -1.6572265625, -0.1494140625, -2.67578125, -0.60888671875, -0.1278076171875, -0.83349609375, -2.244140625, -0.90625, -0.689453125, -1.48828125, -0.0005102157592773438, -0.501953125, -1.728515625, -0.016693115234375, -0.4140625, -0.52392578125, -0.4150390625, -1.5107421875, -0.00897216796875, -0.03790283203125, -0.5673828125, -2.72265625, -0.58935546875, -0.5908203125, -0.465087890625, -0.6669921875, -0.345703125, -1.2109375, -0.6748046875, -0.358642578125, -0.8330078125, -0.630859375, -0.357421875, -0.0760498046875, -1.830078125, -0.8798828125, -0.0011920928955078125, -0.0797119140625, -0.0022144317626953125, -3.552436828613281e-05, -0.69873046875, -1.2060546875, -0.2083740234375, -0.08843994140625, -1.7470703125, -0.63525390625, -0.0013570785522460938, -0.276611328125, -0.004116058349609375, -0.00034999847412109375, -0.57666015625, -1.494140625, -1.1767578125, -1.638671875, -2.08203125, -2.306640625, -0.00045180320739746094, -2.51171875, -0.85693359375, -1.3388671875, -1.76171875, -0.178466796875, -0.6240234375, -2.330078125, -1.5078125, -2.224609375, -0.434326171875, -2.669921875, -2.294921875, -1.853515625, -1.830078125, -0.46484375, -0.0975341796875, -1.5263671875, -1.4052734375]\n"
     ]
    }
   ],
   "source": [
    "print(hypos[0]['lm_max'][:100])"
   ]
  },
  {
   "cell_type": "code",
   "execution_count": 12,
   "metadata": {},
   "outputs": [
    {
     "data": {
      "text/plain": [
       "486"
      ]
     },
     "execution_count": 12,
     "metadata": {},
     "output_type": "execute_result"
    }
   ],
   "source": [
    "len(hypos[2]['positional_scores'])"
   ]
  },
  {
   "cell_type": "code",
   "execution_count": 14,
   "metadata": {},
   "outputs": [
    {
     "data": {
      "text/plain": [
       "486"
      ]
     },
     "execution_count": 14,
     "metadata": {},
     "output_type": "execute_result"
    }
   ],
   "source": [
    "len(hypos[2]['knn_scores'])"
   ]
  },
  {
   "cell_type": "code",
   "execution_count": 95,
   "metadata": {},
   "outputs": [
    {
     "data": {
      "text/plain": [
       "486"
      ]
     },
     "execution_count": 95,
     "metadata": {},
     "output_type": "execute_result"
    }
   ],
   "source": [
    "len(hypos[2]['lm_entropy'])"
   ]
  },
  {
   "cell_type": "code",
   "execution_count": 96,
   "metadata": {},
   "outputs": [
    {
     "data": {
      "text/plain": [
       "486"
      ]
     },
     "execution_count": 96,
     "metadata": {},
     "output_type": "execute_result"
    }
   ],
   "source": [
    "len(hypos[2]['tokens'])"
   ]
  },
  {
   "cell_type": "code",
   "execution_count": 128,
   "metadata": {},
   "outputs": [
    {
     "name": "stdout",
     "output_type": "stream",
     "text": [
      "16.740844375352186\n"
     ]
    }
   ],
   "source": [
    "# sanity check perplexity\n",
    "scores = 0\n",
    "cnt = 0\n",
    "for hypo in hypos:\n",
    "    scores += sum(hypo['positional_scores'])\n",
    "    cnt += len(hypo['positional_scores'])\n",
    "    \n",
    "print(np.exp(-scores / cnt))"
   ]
  },
  {
   "cell_type": "code",
   "execution_count": 129,
   "metadata": {},
   "outputs": [
    {
     "name": "stdout",
     "output_type": "stream",
     "text": [
      "17.965741914820597\n"
     ]
    }
   ],
   "source": [
    "scores = 0\n",
    "cnt = 0\n",
    "for hypo in hypos:\n",
    "    scores += sum(hypo['lm_scores'])\n",
    "    cnt += len(hypo['lm_scores'])\n",
    "    \n",
    "print(np.exp(-scores / cnt))"
   ]
  },
  {
   "cell_type": "code",
   "execution_count": 24,
   "metadata": {},
   "outputs": [
    {
     "data": {
      "text/plain": [
       "(500,)"
      ]
     },
     "execution_count": 24,
     "metadata": {},
     "output_type": "execute_result"
    }
   ],
   "source": [
    "np.array(hypos[0]['knn_scores']).shape"
   ]
  },
  {
   "cell_type": "code",
   "execution_count": 250,
   "metadata": {},
   "outputs": [
    {
     "name": "stdout",
     "output_type": "stream",
     "text": [
      "42.79555653716873\n"
     ]
    }
   ],
   "source": [
    "from scipy.special import logsumexp\n",
    "\n",
    "scores = 0\n",
    "cnt = 0\n",
    "lambda_ = 0.09\n",
    "ndict = 267744\n",
    "for hypo in hypos:\n",
    "    knn_scores = np.array(hypo['knn_scores'])\n",
    "    uniform_scores = np.full(knn_scores.shape, -np.log(ndict))\n",
    "    combine = logsumexp(np.stack((knn_scores + np.log(1-lambda_), uniform_scores+np.log(lambda_)), axis=-1), axis=-1)\n",
    "    scores += combine.sum()\n",
    "    cnt += len(hypo['knn_scores'])\n",
    "    \n",
    "print(np.exp(-scores / cnt))"
   ]
  },
  {
   "cell_type": "code",
   "execution_count": 47,
   "metadata": {},
   "outputs": [
    {
     "name": "stdout",
     "output_type": "stream",
     "text": [
      "16.736424624048443\n"
     ]
    }
   ],
   "source": [
    "from scipy.special import logsumexp\n",
    "\n",
    "scores = 0\n",
    "cnt = 0\n",
    "lambda_ = 0.75\n",
    "ndict = 267744\n",
    "for hypo in hypos:\n",
    "    knn_scores = np.array(hypo['knn_scores'])\n",
    "    lm_scores = np.array(hypo['lm_scores'])\n",
    "    combine = logsumexp(np.stack((knn_scores + np.log(1-lambda_), lm_scores+np.log(lambda_)), axis=-1), axis=-1)\n",
    "    scores += combine.sum()\n",
    "    cnt += len(hypo['knn_scores'])\n",
    "    \n",
    "print(np.exp(-scores / cnt))"
   ]
  },
  {
   "cell_type": "code",
   "execution_count": 179,
   "metadata": {},
   "outputs": [],
   "source": [
    "from typing import List, Tuple\n",
    "def _val_to_bucket_id(val: float, bin_bound: List[Tuple[int, int]]) -> int:\n",
    "    \"\"\"convert the length into the id of bucket, return the string of the id\n",
    "    Args:\n",
    "        length: the length to be converted\n",
    "        bin_bound: the bucket denoted by a list of tuples\n",
    "    \"\"\"\n",
    "    flag = False\n",
    "    for i, bucket in enumerate(bin_bound):\n",
    "        if val >= bucket[0] and val < bucket[1]:\n",
    "            id_ = i\n",
    "            flag = True\n",
    "            break\n",
    "\n",
    "    if not flag:\n",
    "        raise ValueError(\"didn't find a bucket for val {}\".format(val))\n",
    "\n",
    "    return id_"
   ]
  },
  {
   "cell_type": "code",
   "execution_count": 256,
   "metadata": {},
   "outputs": [],
   "source": [
    "def plot_ll_difference(x, y1, y2, nbucket=10):    \n",
    "#     print(data_prototype)\n",
    "    sort_x = sorted(x)\n",
    "\n",
    "    bucket_num = nbucket\n",
    "    avg_bin_len = len(sort_x) // bucket_num\n",
    "    bin_bound = []\n",
    "\n",
    "    for i in range(bucket_num):\n",
    "        if i == (bucket_num - 1):\n",
    "            bin_bound.append((sort_x[i * avg_bin_len], 1e7))\n",
    "        else:\n",
    "            bin_bound.append((sort_x[i * avg_bin_len], sort_x[(i+1) * avg_bin_len]))\n",
    "            \n",
    "    print(bin_bound)\n",
    "    res_dict = {i: {'ntok': 0, 'y1': 0, 'y2': 0} for i in range(len(bin_bound))}\n",
    "    for xi, y1i, y2i in zip(x, y1, y2):\n",
    "        id_ = _val_to_bucket_id(xi, bin_bound)\n",
    "        res_dict[id_]['ntok'] += 1\n",
    "        res_dict[id_]['y1'] += y1i\n",
    "        res_dict[id_]['y2'] += y2i\n",
    "        \n",
    "    labels = [f'bucket {i}' for i in range(len(bin_bound))]\n",
    "    avg_y1 = [np.exp(-res_dict[i]['y1'] / res_dict[i]['ntok']) for i in range(len(bin_bound))]\n",
    "    avg_y2 = [np.exp(-res_dict[i]['y2'] / res_dict[i]['ntok']) for i in range(len(bin_bound))]\n",
    "#     avg_y1 = [-res_dict[i]['y1'] / res_dict[i]['ntok'] for i in range(len(bin_bound))]\n",
    "#     avg_y2 = [-res_dict[i]['y2'] / res_dict[i]['ntok'] for i in range(len(bin_bound))]\n",
    "#     prototype_ppl = [np.exp(-res_dict[i]['ll_prot'] / res_dict[i]['ntok']) for i in range(len(bin_bound))]\n",
    "#     lm_ppl = [np.exp(-res_dict[i]['ll_lm'] / res_dict[i]['ntok']) for i in range(len(bin_bound))]\n",
    "\n",
    "    px = np.arange(len(labels))  # the label locations\n",
    "    width = 0.35  # the width of the bars\n",
    "\n",
    "    fig, ax = plt.subplots(figsize=(15, 7))\n",
    "    rects1 = ax.bar(px - width/2, avg_y1, width, label='neural PPL')\n",
    "    rects2 = ax.bar(px + width/2, avg_y2, width, label='interpolated PPL')\n",
    "\n",
    "    # Add some text for labels, title and custom x-axis tick labels, etc.\n",
    "    ax.set_ylabel('ppl')\n",
    "#     ax.set_title('ppl by different cos sim buckets')\n",
    "    ax.set_xticks(px)\n",
    "    ax.set_xticklabels(labels)\n",
    "    ax.legend()\n",
    "\n",
    "\n",
    "    def autolabel(rects):\n",
    "        \"\"\"Attach a text label above each bar in *rects*, displaying its height.\"\"\"\n",
    "        for rect in rects:\n",
    "            height = rect.get_height()\n",
    "            ax.annotate(f'{height:.2f}',\n",
    "                        xy=(rect.get_x() + rect.get_width() / 2, height),\n",
    "                        xytext=(0, 3),  # 3 points vertical offset\n",
    "                        textcoords=\"offset points\",\n",
    "                        ha='center', va='bottom')\n",
    "\n",
    "\n",
    "    autolabel(rects1)\n",
    "    autolabel(rects2)\n",
    "\n",
    "    fig.tight_layout()\n",
    "\n",
    "    plt.show()\n",
    "    \n",
    "    return bin_bound"
   ]
  },
  {
   "cell_type": "code",
   "execution_count": 252,
   "metadata": {},
   "outputs": [],
   "source": [
    "lm_scores = []\n",
    "knn_scores = []\n",
    "interpolation_scores = []\n",
    "entropy = []\n",
    "for hypo in hypos:\n",
    "    assert len(hypo['lm_scores']) == len(hypo['positional_scores'])\n",
    "    assert len(hypo['lm_scores']) == len(hypo['lm_entropy'])\n",
    "    lm_scores.extend(hypo['lm_scores'])\n",
    "    knn_scores.extend(hypo['knn_scores'])\n",
    "    interpolation_scores.extend(hypo['positional_scores'])\n",
    "    entropy.extend(hypo['lm_entropy'])\n",
    "    \n",
    "lm_scores = np.array(lm_scores)\n",
    "interpolation_scores = np.array(interpolation_scores)\n",
    "entropy = np.array(entropy)\n",
    "knn_scores = np.array(knn_scores)"
   ]
  },
  {
   "cell_type": "code",
   "execution_count": 253,
   "metadata": {},
   "outputs": [
    {
     "name": "stdout",
     "output_type": "stream",
     "text": [
      "[ 0.03662109  1.00976562 -0.10910034 -0.1027832  -0.2890625  -0.03125\n",
      " -0.25195312 -0.20410156 -0.10742188 -0.00018311  0.515625    0.328125\n",
      "  0.7734375   0.18457031  1.5859375  -0.2890625  -0.06933594  0.19140625\n",
      "  0.0625     -0.00537872  0.23828125 -0.0201416  -0.11328125 -0.2890625\n",
      " -0.28125     0.87890625 -0.07885742  0.41796875 -0.15332031 -0.2890625\n",
      " -0.12646484  0.390625    0.01269531  0.125      -0.03613281  0.2421875\n",
      " -0.27929688 -0.00467682 -0.12695312 -0.00488281 -0.24804688 -0.00976562\n",
      "  0.00488281 -0.07312012  0.02893066 -0.0002265  -0.16796875 -0.05822754\n",
      " -0.00024223 -0.00024331 -0.00021958  0.3515625  -0.1328125  -0.28768921\n",
      " -0.27929688  0.0859375  -0.05810547 -0.14453125 -0.09765625  0.14453125\n",
      " -0.15686035  0.00415039  0.12109375 -0.19775391 -0.22265625 -0.13671875\n",
      " -0.00834656 -0.03213501 -0.14318848  2.0390625  -0.01275635  0.00044441\n",
      " -0.15014648 -0.12109375  0.71484375 -0.2890625  -0.2421875  -0.04589844\n",
      " -0.1796875   0.59375     0.00622559 -0.02752686 -0.00618744 -0.00023293\n",
      " -0.07727051 -0.05957031  0.19921875 -0.2890625   0.12695312 -0.09912109\n",
      " -0.16699219 -0.0003252  -0.13085938  0.05273438 -0.140625    0.7109375\n",
      " -0.15258789 -0.015625   -0.13671875  0.06542969]\n"
     ]
    }
   ],
   "source": [
    "np.set_printoptions(suppress=True)\n",
    "print((interpolation_scores - lm_scores)[1000:1100])"
   ]
  },
  {
   "cell_type": "code",
   "execution_count": 254,
   "metadata": {},
   "outputs": [
    {
     "name": "stdout",
     "output_type": "stream",
     "text": [
      "[2.44921875 4.5546875  0.20874023 1.67675781 3.40234375 2.57421875\n",
      " 3.48242188 2.1875     2.03320312 0.01189423 1.90625    5.5703125\n",
      " 4.85546875 3.328125   2.39257812 3.96875    1.06640625 4.109375\n",
      " 5.0546875  0.07989502 4.875      0.90673828 5.73046875 5.93359375\n",
      " 3.97265625 3.2734375  1.77636719 3.95507812 2.34570312 3.66601562\n",
      " 2.64257812 4.546875   1.69238281 5.796875   4.1875     5.2578125\n",
      " 2.88476562 0.08825684 4.13671875 2.9375     2.25585938 1.77636719\n",
      " 3.3984375  0.9140625  0.47485352 0.00281334 2.96484375 0.49707031\n",
      " 0.0000273  0.0000121  0.00032854 2.81445312 1.20019531 0.06021118\n",
      " 3.375      3.28320312 3.50195312 4.50390625 0.98388672 2.47070312\n",
      " 0.86328125 1.84472656 3.78125    1.2578125  4.234375   1.01464844\n",
      " 0.13000488 0.21606445 0.44946289 0.24487305 0.12756348 0.00946808\n",
      " 1.41210938 4.390625   4.2109375  3.43359375 4.984375   0.96533203\n",
      " 4.1640625  0.95019531 0.3359375  0.24975586 0.02133179 0.00015962\n",
      " 0.90380859 3.8828125  4.0078125  4.7421875  3.13476562 2.43359375\n",
      " 3.96875    0.0198822  5.44921875 1.62109375 6.328125   4.6953125\n",
      " 1.54199219 3.453125   4.3359375  3.31835938]\n"
     ]
    }
   ],
   "source": [
    "print(entropy[1000:1100])"
   ]
  },
  {
   "cell_type": "code",
   "execution_count": 255,
   "metadata": {},
   "outputs": [
    {
     "name": "stdout",
     "output_type": "stream",
     "text": [
      "[    -0.890625       -2.91601562     -0.56347656     -0.98876953\n",
      " -10000.             -2.72265625     -5.40234375     -2.39648438\n",
      "     -2.65429688     -0.00221252     -1.00390625     -4.59375\n",
      "     -3.70117188     -1.36523438     -7.11328125 -10000.\n",
      "     -0.97949219     -6.328125       -6.44140625     -0.03111267\n",
      "     -4.31640625     -0.20227051     -5.22265625 -10000.\n",
      "     -6.32421875     -4.7265625      -0.67480469     -2.38867188\n",
      "     -2.4140625  -10000.             -1.59863281     -6.69921875\n",
      "     -0.97363281     -3.54882812     -1.90527344     -2.46875\n",
      "     -6.9296875      -0.02809143     -2.734375       -1.05957031\n",
      "     -3.70703125     -0.69775391     -1.01757812     -0.48242188\n",
      "     -0.08453369      0.             -2.43164062     -0.43261719\n",
      "      0.              0.              0.00000048     -5.56640625\n",
      "     -6.1484375  -10000.             -7.578125       -2.36328125\n",
      "     -0.96679688     -4.03125        -0.61621094     -3.44140625\n",
      "     -1.0078125      -0.42163086     -4.69140625     -2.02539062\n",
      "     -6.22265625     -1.25097656     -0.0512085      -0.17102051\n",
      "     -0.91259766     -2.17773438     -0.07501221     -0.00000048\n",
      "     -1.23242188     -3.27929688     -4.71484375 -10000.\n",
      "     -6.03515625     -0.45678711     -3.65625        -1.05371094\n",
      "     -0.03646851     -0.17700195     -0.02606201      0.\n",
      "     -0.54980469     -2.08789062     -3.96484375 -10000.\n",
      "     -3.05273438     -1.27441406     -2.4921875      -0.00173378\n",
      "     -2.9921875      -2.00976562     -6.10546875     -5.4453125\n",
      "     -1.18652344     -1.40722656     -4.72265625     -0.64550781]\n"
     ]
    }
   ],
   "source": [
    "print(knn_scores[1000:1100])"
   ]
  },
  {
   "cell_type": "code",
   "execution_count": 257,
   "metadata": {},
   "outputs": [
    {
     "name": "stdout",
     "output_type": "stream",
     "text": [
      "[(0.0, 0.266357421875), (0.266357421875, 1.05859375), (1.05859375, 1.740234375), (1.740234375, 2.314453125), (2.314453125, 2.84765625), (2.84765625, 3.3828125), (3.3828125, 3.923828125), (3.923828125, 4.51171875), (4.51171875, 5.2734375), (5.2734375, 10000000.0)]\n"
     ]
    },
    {
     "data": {
      "image/png": "[encoded data removed]",
      "text/plain": [
       "<Figure size 1080x504 with 1 Axes>"
      ]
     },
     "metadata": {
      "needs_background": "light"
     },
     "output_type": "display_data"
    }
   ],
   "source": [
    "bound = plot_ll_difference(entropy, lm_scores, interpolation_scores)"
   ]
  },
  {
   "cell_type": "code",
   "execution_count": 132,
   "metadata": {},
   "outputs": [
    {
     "data": {
      "text/plain": [
       "(0.044960208287873324, 8.884660925600119e-98)"
      ]
     },
     "execution_count": 132,
     "metadata": {},
     "output_type": "execute_result"
    }
   ],
   "source": [
    "from scipy.stats import pearsonr\n",
    "pearsonr(entropy, interpolation_scores - lm_scores)"
   ]
  },
  {
   "cell_type": "code",
   "execution_count": 270,
   "metadata": {},
   "outputs": [
    {
     "name": "stdout",
     "output_type": "stream",
     "text": [
      "16.759253320752396\n"
     ]
    }
   ],
   "source": [
    "scores = 0\n",
    "cnt = 0\n",
    "lambda_ = 0.75\n",
    "threshold = 0.26\n",
    "for hypo in hypos:\n",
    "    knn_scores = np.array(hypo['knn_scores'])\n",
    "    lm_scores = np.array(hypo['lm_scores'])\n",
    "    entropy = np.array(hypo['lm_entropy'])\n",
    "    \n",
    "    length = len(lm_scores)\n",
    "    coef_lm = np.zeros(length)\n",
    "    coef_lm.fill(0)\n",
    "    coef_knn = np.zeros(length)\n",
    "    coef_knn.fill(-1e5)\n",
    "    index = (entropy >= threshold)\n",
    "#     print(length)\n",
    "    coef_lm[index] = np.log(lambda_)\n",
    "    coef_knn[index] = np.log(1 - lambda_)\n",
    "    \n",
    "    combine = logsumexp(np.stack((knn_scores + coef_knn, lm_scores+coef_lm), axis=-1), axis=-1)\n",
    "    scores += combine.sum()\n",
    "    cnt += len(hypo['knn_scores'])\n",
    "    \n",
    "print(np.exp(-scores / cnt))"
   ]
  },
  {
   "cell_type": "code",
   "execution_count": 271,
   "metadata": {},
   "outputs": [
    {
     "name": "stdout",
     "output_type": "stream",
     "text": [
      "[(0.0034146253471040128, 0.11088975715305244), (0.11088975715305244, 0.17208519156373156), (0.17208519156373156, 0.2342955620411741), (0.2342955620411741, 0.3014296118313789), (0.3014296118313789, 0.3801135875775629), (0.3801135875775629, 0.47746815494498557), (0.47746815494498557, 0.6069750587595906), (0.6069750587595906, 0.7835687416728727), (0.7835687416728727, 0.9616319064605441), (0.9616319064605441, 10000000.0)]\n"
     ]
    },
    {
     "data": {
      "image/png": "[encoded data removed]",
      "text/plain": [
       "<Figure size 1080x504 with 1 Axes>"
      ]
     },
     "metadata": {
      "needs_background": "light"
     },
     "output_type": "display_data"
    }
   ],
   "source": [
    "lm_scores = []\n",
    "interpolation_scores = []\n",
    "lm_max = []\n",
    "for hypo in hypos:\n",
    "    assert len(hypo['lm_scores']) == len(hypo['positional_scores'])\n",
    "    assert len(hypo['lm_scores']) == len(hypo['lm_max'])\n",
    "    lm_scores.extend(hypo['lm_scores'])\n",
    "    interpolation_scores.extend(hypo['positional_scores'])\n",
    "    lm_max.extend(hypo['lm_max'])\n",
    "    \n",
    "lm_scores = np.array(lm_scores)\n",
    "interpolation_scores = np.array(interpolation_scores)\n",
    "lm_max = np.exp(np.array(lm_max))\n",
    "\n",
    "bound = plot_ll_difference(lm_max, lm_scores, interpolation_scores)"
   ]
  },
  {
   "cell_type": "code",
   "execution_count": 272,
   "metadata": {},
   "outputs": [
    {
     "name": "stdout",
     "output_type": "stream",
     "text": [
      "17.147145163360452\n"
     ]
    }
   ],
   "source": [
    "scores = 0\n",
    "cnt = 0\n",
    "lambda_ = 0.75\n",
    "threshold = 0.38\n",
    "for hypo in hypos:\n",
    "    knn_scores = np.array(hypo['knn_scores'])\n",
    "    lm_scores = np.array(hypo['lm_scores'])\n",
    "    lm_max = np.exp(np.array(hypo['lm_max']))\n",
    "    \n",
    "    length = len(lm_scores)\n",
    "    coef_lm = np.zeros(length)\n",
    "    coef_lm.fill(0)\n",
    "    coef_knn = np.zeros(length)\n",
    "    coef_knn.fill(-1e5)\n",
    "    index = (lm_max <= threshold)\n",
    "#     print(length)\n",
    "    coef_lm[index] = np.log(lambda_)\n",
    "    coef_knn[index] = np.log(1 - lambda_)\n",
    "    \n",
    "    combine = logsumexp(np.stack((knn_scores + coef_knn, lm_scores+coef_lm), axis=-1), axis=-1)\n",
    "    scores += combine.sum()\n",
    "    cnt += len(hypo['knn_scores'])\n",
    "    \n",
    "print(np.exp(-scores / cnt))"
   ]
  },
  {
   "cell_type": "code",
   "execution_count": 295,
   "metadata": {},
   "outputs": [
    {
     "name": "stdout",
     "output_type": "stream",
     "text": [
      "['</s>', '=', 'Homarus', 'gammarus', '=', '</s>', '</s>', 'Homarus', 'gammarus', ',', 'known', 'as', 'the', 'European', 'lobster', 'or', 'common', 'lobster', ',', 'is', 'a', 'species', 'of', 'clawed', 'lobster', 'from', 'the', 'eastern', 'Atlantic', 'Ocean', ',', 'Mediterranean', 'Sea', 'and', 'parts', 'of', 'the', 'Black', 'Sea', '.', 'It', 'is', 'closely', 'related', 'to', 'the', 'American', 'lobster', ',', 'H.']\n"
     ]
    }
   ],
   "source": [
    "print(hypos[0]['string'][:50])"
   ]
  },
  {
   "cell_type": "code",
   "execution_count": 105,
   "metadata": {},
   "outputs": [
    {
     "name": "stdout",
     "output_type": "stream",
     "text": [
      "486\n"
     ]
    }
   ],
   "source": [
    "print(len(hypos[2]['string']))"
   ]
  },
  {
   "cell_type": "code",
   "execution_count": 135,
   "metadata": {},
   "outputs": [
    {
     "name": "stdout",
     "output_type": "stream",
     "text": [
      "17.11976282517643\n"
     ]
    }
   ],
   "source": []
  },
  {
   "cell_type": "markdown",
   "metadata": {},
   "source": [
    "# Experiment with frequency"
   ]
  },
  {
   "cell_type": "code",
   "execution_count": 160,
   "metadata": {},
   "outputs": [],
   "source": [
    "from collections import Counter\n",
    "\n",
    "def get_ngram_freq(file, ngram=2):\n",
    "    res = Counter()\n",
    "    prev = ['</s>']\n",
    "    with open(file) as fin:\n",
    "        for i, line in enumerate(fin):\n",
    "            if i % 100000 == 0:\n",
    "                print(f'procesed {i} lines')\n",
    "            for tok in line.strip().split():\n",
    "                prev = prev[-ngram:]\n",
    "                res[' '.join(prev)] += 1  \n",
    "                prev.append(tok)\n",
    "                \n",
    "            prev.append('</s>')\n",
    "    \n",
    "    return res"
   ]
  },
  {
   "cell_type": "code",
   "execution_count": 113,
   "metadata": {},
   "outputs": [],
   "source": [
    "training_data = '/projects/junxianh/knnlmXS/examples/language_model/wikitext-103/wiki.train.tokens'"
   ]
  },
  {
   "cell_type": "code",
   "execution_count": 161,
   "metadata": {},
   "outputs": [
    {
     "name": "stdout",
     "output_type": "stream",
     "text": [
      "procesed 0 lines\n",
      "procesed 100000 lines\n",
      "procesed 200000 lines\n",
      "procesed 300000 lines\n",
      "procesed 400000 lines\n",
      "procesed 500000 lines\n",
      "procesed 600000 lines\n",
      "procesed 700000 lines\n",
      "procesed 800000 lines\n",
      "procesed 900000 lines\n",
      "procesed 1000000 lines\n",
      "procesed 1100000 lines\n",
      "procesed 1200000 lines\n",
      "procesed 1300000 lines\n",
      "procesed 1400000 lines\n",
      "procesed 1500000 lines\n",
      "procesed 1600000 lines\n",
      "procesed 1700000 lines\n",
      "procesed 1800000 lines\n"
     ]
    }
   ],
   "source": [
    "one_gram = get_ngram_freq(training_data, ngram=1)"
   ]
  },
  {
   "cell_type": "code",
   "execution_count": 162,
   "metadata": {},
   "outputs": [
    {
     "name": "stdout",
     "output_type": "stream",
     "text": [
      "[('the', 5584807), (',', 4969083), ('.', 2925382), ('of', 2737597), ('and', 2499308), ('to', 1979127), ('in', 1894536), ('a', 1676998), ('\"', 1298160), ('</s>', 1165029), ('=', 1161096), ('was', 1075308), ('@-@', 881576), ('The', 853818), (\"'s\", 728263), ('on', 688523), ('that', 679455), ('for', 675281), ('as', 674934), ('with', 632011)]\n"
     ]
    }
   ],
   "source": [
    "print(one_gram.most_common(20))"
   ]
  },
  {
   "cell_type": "code",
   "execution_count": 151,
   "metadata": {},
   "outputs": [
    {
     "name": "stdout",
     "output_type": "stream",
     "text": [
      "['</s>', '=', 'Homarus', 'gammarus', '=', '</s>', '</s>', 'Homarus', 'gammarus', ',', 'known', 'as', 'the', 'European', 'lobster', 'or', 'common', 'lobster', ',', 'is']\n"
     ]
    }
   ],
   "source": [
    "print(hypos[0]['string'][:20])"
   ]
  },
  {
   "cell_type": "code",
   "execution_count": 159,
   "metadata": {},
   "outputs": [
    {
     "data": {
      "text/plain": [
       "['underside',\n",
       " ',',\n",
       " 'which',\n",
       " 'are',\n",
       " 'lacking',\n",
       " 'in',\n",
       " 'H.',\n",
       " 'gammarus',\n",
       " '.',\n",
       " '</s>']"
      ]
     },
     "execution_count": 159,
     "metadata": {},
     "output_type": "execute_result"
    }
   ],
   "source": [
    "hypos[0]['string'][-10:]"
   ]
  },
  {
   "cell_type": "code",
   "execution_count": 186,
   "metadata": {},
   "outputs": [
    {
     "name": "stdout",
     "output_type": "stream",
     "text": [
      "[(0, 774), (774, 3213), (3213, 8365), (8365, 21009), (21009, 62610), (62610, 326406), (326406, 881576), (881576, 1979127), (1979127, 4969083), (4969083, 10000000.0)]\n"
     ]
    },
    {
     "data": {
      "image/png": "[encoded data removed]",
      "text/plain": [
       "<Figure size 1080x504 with 1 Axes>"
      ]
     },
     "metadata": {
      "needs_background": "light"
     },
     "output_type": "display_data"
    }
   ],
   "source": [
    "lm_scores = []\n",
    "interpolation_scores = []\n",
    "freq = []\n",
    "count = one_gram\n",
    "ngram = 1\n",
    "prev = []\n",
    "\n",
    "for hypo in hypos:\n",
    "    assert len(hypo['lm_scores']) == len(hypo['positional_scores'])\n",
    "    assert len(hypo['lm_scores']) == len(hypo['string'])\n",
    "    \n",
    "#     index = [i for i, x in enumerate(hypo['string']) if x != '</s>']\n",
    "    lm_scores.extend(hypo['lm_scores'])\n",
    "    interpolation_scores.extend(hypo['positional_scores'])\n",
    "    for tok in hypo['string']:\n",
    "        prev = prev[-ngram:]\n",
    "        freq.append(count[' '.join(prev)])\n",
    "#         print(f\"{prev}: {count[' '.join(prev)]}\")\n",
    "        prev.append(tok)\n",
    "    \n",
    "lm_scores = np.array(lm_scores)\n",
    "interpolation_scores = np.array(interpolation_scores)\n",
    "freq = np.array(freq)\n",
    "\n",
    "bound = plot_ll_difference(freq, lm_scores, interpolation_scores)"
   ]
  },
  {
   "cell_type": "code",
   "execution_count": 173,
   "metadata": {},
   "outputs": [],
   "source": [
    "def adaptive_retrieval_freq(hypos, threshold, ngram_cnt, lambda_=0.75, ngram=1):\n",
    "    scores = 0\n",
    "    cnt = 0\n",
    "    prev = []\n",
    "\n",
    "    for hypo in hypos:\n",
    "        knn_scores = np.array(hypo['knn_scores'])\n",
    "        lm_scores = np.array(hypo['lm_scores'])\n",
    "        \n",
    "        freq = []\n",
    "        for tok in hypo['string']:\n",
    "            prev = prev[-ngram:]\n",
    "            freq.append(ngram_cnt[' '.join(prev)])\n",
    "            prev.append(tok)\n",
    "        freq = np.array(freq)\n",
    "        length = len(lm_scores)\n",
    "        coef_lm = np.zeros(length)\n",
    "        coef_lm.fill(0)\n",
    "        coef_knn = np.zeros(length)\n",
    "        coef_knn.fill(-1e5)\n",
    "        index = (freq <= threshold)\n",
    "    #     print(length)\n",
    "        coef_lm[index] = np.log(lambda_)\n",
    "        coef_knn[index] = np.log(1 - lambda_)\n",
    "\n",
    "        combine = logsumexp(np.stack((knn_scores + coef_knn, lm_scores+coef_lm), axis=-1), axis=-1)\n",
    "        scores += combine.sum()\n",
    "        cnt += len(hypo['knn_scores'])\n",
    "\n",
    "    ppl = np.exp(-scores / cnt)\n",
    "#     print(ppl)\n",
    "    \n",
    "    return ppl"
   ]
  },
  {
   "cell_type": "code",
   "execution_count": 174,
   "metadata": {},
   "outputs": [
    {
     "data": {
      "text/plain": [
       "16.736425747686383"
      ]
     },
     "execution_count": 174,
     "metadata": {},
     "output_type": "execute_result"
    }
   ],
   "source": [
    "adaptive_retrieval_freq(hypos, 1e7, one_gram, ngram=1)"
   ]
  },
  {
   "cell_type": "code",
   "execution_count": 184,
   "metadata": {},
   "outputs": [
    {
     "data": {
      "text/plain": [
       "16.953517732534127"
      ]
     },
     "execution_count": 184,
     "metadata": {},
     "output_type": "execute_result"
    }
   ],
   "source": [
    "adaptive_retrieval_freq(hypos, 1979127, one_gram, ngram=1)"
   ]
  },
  {
   "cell_type": "code",
   "execution_count": 187,
   "metadata": {},
   "outputs": [
    {
     "name": "stdout",
     "output_type": "stream",
     "text": [
      "procesed 0 lines\n",
      "procesed 100000 lines\n",
      "procesed 200000 lines\n",
      "procesed 300000 lines\n",
      "procesed 400000 lines\n",
      "procesed 500000 lines\n",
      "procesed 600000 lines\n",
      "procesed 700000 lines\n",
      "procesed 800000 lines\n",
      "procesed 900000 lines\n",
      "procesed 1000000 lines\n",
      "procesed 1100000 lines\n",
      "procesed 1200000 lines\n",
      "procesed 1300000 lines\n",
      "procesed 1400000 lines\n",
      "procesed 1500000 lines\n",
      "procesed 1600000 lines\n",
      "procesed 1700000 lines\n",
      "procesed 1800000 lines\n"
     ]
    }
   ],
   "source": [
    "two_gram = get_ngram_freq(training_data, ngram=2)"
   ]
  },
  {
   "cell_type": "code",
   "execution_count": 188,
   "metadata": {},
   "outputs": [
    {
     "name": "stdout",
     "output_type": "stream",
     "text": [
      "[('of the', 834049), ('= =', 578545), (', and', 578102), ('</s> </s>', 571551), ('. The', 542989), ('in the', 509613), ('. </s>', 456489), (', the', 384102), ('</s> =', 305497), ('to the', 301507)]\n"
     ]
    }
   ],
   "source": [
    "print(two_gram.most_common(10))"
   ]
  },
  {
   "cell_type": "code",
   "execution_count": 273,
   "metadata": {},
   "outputs": [
    {
     "name": "stdout",
     "output_type": "stream",
     "text": [
      "[(0, 2), (2, 12), (12, 44), (44, 127), (127, 324), (324, 802), (802, 2114), (2114, 7314), (7314, 55230), (55230, 10000000.0)]\n"
     ]
    },
    {
     "data": {
      "image/png": "[encoded data removed]",
      "text/plain": [
       "<Figure size 1080x504 with 1 Axes>"
      ]
     },
     "metadata": {
      "needs_background": "light"
     },
     "output_type": "display_data"
    }
   ],
   "source": [
    "lm_scores = []\n",
    "interpolation_scores = []\n",
    "freq = []\n",
    "count = two_gram\n",
    "ngram = 2\n",
    "prev = []\n",
    "\n",
    "for hypo in hypos:\n",
    "    assert len(hypo['lm_scores']) == len(hypo['positional_scores'])\n",
    "    assert len(hypo['lm_scores']) == len(hypo['string'])\n",
    "    \n",
    "#     index = [i for i, x in enumerate(hypo['string']) if x != '</s>']\n",
    "    lm_scores.extend(hypo['lm_scores'])\n",
    "    interpolation_scores.extend(hypo['positional_scores'])\n",
    "    for tok in hypo['string']:\n",
    "        prev = prev[-ngram:]\n",
    "        freq.append(count[' '.join(prev)])\n",
    "#         print(f\"{prev}: {count[' '.join(prev)]}\")\n",
    "        prev.append(tok)\n",
    "    \n",
    "lm_scores = np.array(lm_scores)\n",
    "interpolation_scores = np.array(interpolation_scores)\n",
    "freq = np.array(freq)\n",
    "\n",
    "bound = plot_ll_difference(freq, lm_scores, interpolation_scores)"
   ]
  },
  {
   "cell_type": "code",
   "execution_count": 291,
   "metadata": {},
   "outputs": [
    {
     "data": {
      "text/plain": [
       "16.85499766822275"
      ]
     },
     "execution_count": 291,
     "metadata": {},
     "output_type": "execute_result"
    }
   ],
   "source": [
    "adaptive_retrieval_freq(hypos, 55230, two_gram, ngram=2)"
   ]
  },
  {
   "cell_type": "code",
   "execution_count": 190,
   "metadata": {},
   "outputs": [
    {
     "name": "stdout",
     "output_type": "stream",
     "text": [
      "procesed 0 lines\n",
      "procesed 100000 lines\n",
      "procesed 200000 lines\n",
      "procesed 300000 lines\n",
      "procesed 400000 lines\n",
      "procesed 500000 lines\n",
      "procesed 600000 lines\n",
      "procesed 700000 lines\n",
      "procesed 800000 lines\n",
      "procesed 900000 lines\n",
      "procesed 1000000 lines\n",
      "procesed 1100000 lines\n",
      "procesed 1200000 lines\n",
      "procesed 1300000 lines\n",
      "procesed 1400000 lines\n",
      "procesed 1500000 lines\n",
      "procesed 1600000 lines\n",
      "procesed 1700000 lines\n",
      "procesed 1800000 lines\n"
     ]
    }
   ],
   "source": [
    "trigram = get_ngram_freq(training_data, ngram=3)"
   ]
  },
  {
   "cell_type": "code",
   "execution_count": 191,
   "metadata": {},
   "outputs": [
    {
     "name": "stdout",
     "output_type": "stream",
     "text": [
      "[('</s> </s> =', 304104), ('</s> = =', 275630), ('= </s> </s>', 267388), ('. </s> </s>', 223378), ('= = =', 167648), ('. </s> The', 91367), (', and the', 65301), ('</s> </s> </s>', 60306), ('</s> </s> The', 58449), ('. </s> In', 50895)]\n"
     ]
    }
   ],
   "source": [
    "print(trigram.most_common(10))"
   ]
  },
  {
   "cell_type": "code",
   "execution_count": 194,
   "metadata": {},
   "outputs": [
    {
     "name": "stdout",
     "output_type": "stream",
     "text": [
      "[(0, 1), (1, 30), (30, 10000000.0)]\n"
     ]
    },
    {
     "data": {
      "image/png": "[encoded data removed]",
      "text/plain": [
       "<Figure size 1080x504 with 1 Axes>"
      ]
     },
     "metadata": {
      "needs_background": "light"
     },
     "output_type": "display_data"
    }
   ],
   "source": [
    "lm_scores = []\n",
    "interpolation_scores = []\n",
    "freq = []\n",
    "count = trigram\n",
    "ngram = 3\n",
    "prev = []\n",
    "\n",
    "for hypo in hypos:\n",
    "    assert len(hypo['lm_scores']) == len(hypo['positional_scores'])\n",
    "    assert len(hypo['lm_scores']) == len(hypo['string'])\n",
    "    \n",
    "#     index = [i for i, x in enumerate(hypo['string']) if x != '</s>']\n",
    "    lm_scores.extend(hypo['lm_scores'])\n",
    "    interpolation_scores.extend(hypo['positional_scores'])\n",
    "    for tok in hypo['string']:\n",
    "        prev = prev[-ngram:]\n",
    "        freq.append(count[' '.join(prev)])\n",
    "#         print(f\"{prev}: {count[' '.join(prev)]}\")\n",
    "        prev.append(tok)\n",
    "    \n",
    "lm_scores = np.array(lm_scores)\n",
    "interpolation_scores = np.array(interpolation_scores)\n",
    "freq = np.array(freq)\n",
    "\n",
    "bound = plot_ll_difference(freq, lm_scores, interpolation_scores, nbucket=3)"
   ]
  },
  {
   "cell_type": "code",
   "execution_count": 196,
   "metadata": {},
   "outputs": [
    {
     "data": {
      "text/plain": [
       "217646"
      ]
     },
     "execution_count": 196,
     "metadata": {},
     "output_type": "execute_result"
    }
   ],
   "source": [
    "len(lm_scores)"
   ]
  },
  {
   "cell_type": "code",
   "execution_count": 198,
   "metadata": {},
   "outputs": [
    {
     "data": {
      "text/plain": [
       "217646"
      ]
     },
     "execution_count": 198,
     "metadata": {},
     "output_type": "execute_result"
    }
   ],
   "source": [
    "len(interpolation_scores)"
   ]
  },
  {
   "cell_type": "code",
   "execution_count": 259,
   "metadata": {},
   "outputs": [
    {
     "data": {
      "text/plain": [
       "77963"
      ]
     },
     "execution_count": 259,
     "metadata": {},
     "output_type": "execute_result"
    }
   ],
   "source": [
    "((interpolation_scores - lm_scores) > 0.0).sum()"
   ]
  },
  {
   "cell_type": "code",
   "execution_count": 260,
   "metadata": {},
   "outputs": [
    {
     "data": {
      "text/plain": [
       "0.3582101210222104"
      ]
     },
     "execution_count": 260,
     "metadata": {},
     "output_type": "execute_result"
    }
   ],
   "source": [
    "77963 / 217646"
   ]
  }
 ],
 "metadata": {
  "kernelspec": {
   "display_name": "Python 3",
   "language": "python",
   "name": "python3"
  },
  "language_info": {
   "codemirror_mode": {
    "name": "ipython",
    "version": 3
   },
   "file_extension": ".py",
   "mimetype": "text/x-python",
   "name": "python",
   "nbconvert_exporter": "python",
   "pygments_lexer": "ipython3",
   "version": "3.6.8"
  }
 },
 "nbformat": 4,
 "nbformat_minor": 4
}
